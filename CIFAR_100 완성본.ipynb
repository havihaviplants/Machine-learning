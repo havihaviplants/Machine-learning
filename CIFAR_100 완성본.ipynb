{
  "nbformat": 4,
  "nbformat_minor": 0,
  "metadata": {
    "colab": {
      "provenance": [],
      "gpuType": "T4",
      "mount_file_id": "1BjmSmaxupHj9u1fb7Aozugywgw-Xu7NA",
      "authorship_tag": "ABX9TyMkIOpUsuLrU0V/2QdAb6Pt",
      "include_colab_link": true
    },
    "kernelspec": {
      "name": "python3",
      "display_name": "Python 3"
    },
    "language_info": {
      "name": "python"
    },
    "accelerator": "GPU"
  },
  "cells": [
    {
      "cell_type": "markdown",
      "metadata": {
        "id": "view-in-github",
        "colab_type": "text"
      },
      "source": [
        "<a href=\"https://colab.research.google.com/github/havihaviplants/Machine-learning/blob/main/CIFAR_100%20%EC%99%84%EC%84%B1%EB%B3%B8.ipynb\" target=\"_parent\"><img src=\"https://colab.research.google.com/assets/colab-badge.svg\" alt=\"Open In Colab\"/></a>"
      ]
    },
    {
      "cell_type": "code",
      "execution_count": 1,
      "metadata": {
        "colab": {
          "base_uri": "https://localhost:8080/"
        },
        "id": "L-dyvuRL9jC5",
        "outputId": "a49523ec-dc80-4731-ebc1-e5d3c2651c91"
      },
      "outputs": [
        {
          "output_type": "stream",
          "name": "stdout",
          "text": [
            "Mounted at /content/gdrive\n"
          ]
        }
      ],
      "source": [
        "import numpy as np\n",
        "import pandas as pd\n",
        "import torch\n",
        "import torch.nn as nn\n",
        "import torch.optim as optim\n",
        "from torch.utils.data import DataLoader, TensorDataset\n",
        "from torchvision import transforms\n",
        "import torchvision.models as models\n",
        "\n",
        "from google.colab import drive\n",
        "drive.mount('/content/gdrive')\n"
      ]
    },
    {
      "cell_type": "code",
      "source": [
        "from google.colab import drive\n",
        "drive.mount('/content/drive')"
      ],
      "metadata": {
        "colab": {
          "base_uri": "https://localhost:8080/"
        },
        "id": "_8E7atK49pkD",
        "outputId": "47d697b6-7a49-4497-9492-f77bcadfca88"
      },
      "execution_count": 2,
      "outputs": [
        {
          "output_type": "stream",
          "name": "stdout",
          "text": [
            "Mounted at /content/drive\n"
          ]
        }
      ]
    },
    {
      "cell_type": "code",
      "source": [
        "def load_data(train_path, test_path):\n",
        "\n",
        "    train_data = np.load(train_path)\n",
        "    x_train, y_train = train_data['data'], train_data['target']\n",
        "\n",
        "    test_data = np.load(test_path)\n",
        "    x_test = test_data['data']\n",
        "\n",
        "    # 데이터 형태를 [배치 크기, 높이, 너비, 채널]로 변경\n",
        "    x_train = x_train.reshape(-1, 48, 48, 3).astype('float32') / 255.0\n",
        "    x_test = x_test.reshape(-1, 48, 48, 3).astype('float32') / 255.0\n",
        "\n",
        "    # PyTorch 텐서로 변환 (차원 순서 조정)\n",
        "    x_train = torch.tensor(x_train).permute(0, 3, 1, 2)\n",
        "    x_test = torch.tensor(x_test).permute(0, 3, 1, 2)\n",
        "\n",
        "    return x_train, torch.tensor(y_train, dtype=torch.long), x_test\n",
        "\n",
        "\n",
        "device = torch.device(\"cuda\" if torch.cuda.is_available() else \"cpu\")"
      ],
      "metadata": {
        "id": "jhTgHIRJ97Sn"
      },
      "execution_count": 3,
      "outputs": []
    },
    {
      "cell_type": "code",
      "source": [
        "def train_model(model, train_loader, criterion, optimizer, epochs=20):\n",
        "    for epoch in range(epochs):\n",
        "        model.train()  # 훈련 모드로 설정\n",
        "        running_loss = 0.0\n",
        "        correct = 0\n",
        "        total = 0\n",
        "\n",
        "        for data, target in train_loader:\n",
        "            data, target = data.to(device), target.to(device)\n",
        "            optimizer.zero_grad()\n",
        "            output = model(data)\n",
        "            loss = criterion(output, target)\n",
        "            loss.backward()\n",
        "            optimizer.step()\n",
        "\n",
        "            running_loss += loss.item()\n",
        "            _, predicted = torch.max(output.data, 1)\n",
        "            total += target.size(0)\n",
        "            correct += (predicted == target).sum().item()\n",
        "\n",
        "        epoch_loss = running_loss / len(train_loader)\n",
        "        epoch_acc = 100 * correct / total\n",
        "        print(f'Epoch {epoch+1}/{epochs}, Loss: {epoch_loss:.4f}, Accuracy: {epoch_acc:.2f}%')\n",
        "\n",
        "    return model\n",
        "\n",
        "def predict_model(model, test_loader):\n",
        "    model.eval()\n",
        "    predictions = []\n",
        "    with torch.no_grad():\n",
        "        for data, _ in test_loader:\n",
        "            data = data.to(device)\n",
        "            outputs = model(data)\n",
        "            _, predicted = torch.max(outputs, 1)\n",
        "            predictions.extend(predicted.cpu().numpy())\n",
        "    return predictions\n",
        "\n",
        "   #  x_train, y_train, x_test = load_data('/content/gdrive/My Drive/cifar100_noisy_train.npz', '/content/gdrive/My Drive/cifar100_noisy_test_public.npz')"
      ],
      "metadata": {
        "id": "yOafoF5V988z"
      },
      "execution_count": 4,
      "outputs": []
    },
    {
      "cell_type": "code",
      "source": [
        "def main():\n",
        "    x_train, y_train, x_test = load_data('/content/drive/MyDrive/MY Drive/cifar100_noisy_train.npz', '/content/drive/MyDrive/MY Drive/cifar100_noisy_test_public.npz')\n",
        "\n",
        "    train_dataset = TensorDataset(x_train, y_train)\n",
        "    train_loader = DataLoader(train_dataset, batch_size=24, shuffle=True)\n",
        "\n",
        "    test_dataset = TensorDataset(x_test, torch.zeros(len(x_test)))\n",
        "    test_loader = DataLoader(test_dataset, batch_size=24, shuffle=False)\n",
        "\n",
        "    # 사전 훈련된 ResNet 모델 로드\n",
        "    model = models.resnet18(weights=models.ResNet18_Weights.DEFAULT)\n",
        "\n",
        "    # CIFAR-100에 맞게 마지막 FC 레이어 수정\n",
        "    num_ftrs = model.fc.in_features\n",
        "    model.fc = nn.Linear(num_ftrs, 100)  # 100개 클래스에 맞게 조정\n",
        "\n",
        "    model = model.to(device)\n",
        "\n",
        "    # 학습률\n",
        "    optimizer = optim.Adam(model.parameters(), lr=0.0002)\n",
        "    criterion = nn.CrossEntropyLoss()\n",
        "\n",
        "    # 모델 훈련\n",
        "    train_model(model, train_loader, criterion, optimizer)\n",
        "\n",
        "    # 모델 평가\n",
        "    predictions = predict_model(model, test_loader)\n",
        "\n",
        "    # 제출 파일 생성\n",
        "    submission = pd.DataFrame({\n",
        "        'Id': np.arange(len(x_test)),\n",
        "        'Category': predictions\n",
        "    })\n",
        "    submission.to_csv('my_resnet_submission.csv', index=False)\n",
        "\n",
        "if __name__ == \"__main__\":\n",
        "    main()"
      ],
      "metadata": {
        "colab": {
          "base_uri": "https://localhost:8080/"
        },
        "id": "R4KyOTp7-BTu",
        "outputId": "ae50b26a-b8b7-490b-9a73-ce039445ca01"
      },
      "execution_count": 5,
      "outputs": [
        {
          "output_type": "stream",
          "name": "stderr",
          "text": [
            "Downloading: \"https://download.pytorch.org/models/resnet18-f37072fd.pth\" to /root/.cache/torch/hub/checkpoints/resnet18-f37072fd.pth\n",
            "100%|██████████| 44.7M/44.7M [00:00<00:00, 88.7MB/s]\n"
          ]
        },
        {
          "output_type": "stream",
          "name": "stdout",
          "text": [
            "Epoch 1/20, Loss: 3.2981, Accuracy: 21.75%\n",
            "Epoch 2/20, Loss: 2.6688, Accuracy: 32.66%\n",
            "Epoch 3/20, Loss: 2.3709, Accuracy: 38.54%\n",
            "Epoch 4/20, Loss: 2.1174, Accuracy: 43.89%\n",
            "Epoch 5/20, Loss: 1.8789, Accuracy: 49.03%\n",
            "Epoch 6/20, Loss: 1.6312, Accuracy: 54.87%\n",
            "Epoch 7/20, Loss: 1.3955, Accuracy: 60.57%\n",
            "Epoch 8/20, Loss: 1.1598, Accuracy: 66.51%\n",
            "Epoch 9/20, Loss: 0.9494, Accuracy: 71.94%\n",
            "Epoch 10/20, Loss: 0.7743, Accuracy: 76.71%\n",
            "Epoch 11/20, Loss: 0.6362, Accuracy: 80.59%\n",
            "Epoch 12/20, Loss: 0.5257, Accuracy: 83.67%\n",
            "Epoch 13/20, Loss: 0.4620, Accuracy: 85.53%\n",
            "Epoch 14/20, Loss: 0.3983, Accuracy: 87.50%\n",
            "Epoch 15/20, Loss: 0.3673, Accuracy: 88.45%\n",
            "Epoch 16/20, Loss: 0.3303, Accuracy: 89.64%\n",
            "Epoch 17/20, Loss: 0.3118, Accuracy: 90.13%\n",
            "Epoch 18/20, Loss: 0.2912, Accuracy: 90.77%\n",
            "Epoch 19/20, Loss: 0.2829, Accuracy: 91.02%\n",
            "Epoch 20/20, Loss: 0.2521, Accuracy: 92.01%\n"
          ]
        }
      ]
    }
  ]
}