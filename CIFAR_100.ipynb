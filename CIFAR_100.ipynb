{
  "nbformat": 4,
  "nbformat_minor": 0,
  "metadata": {
    "colab": {
      "provenance": [],
      "mount_file_id": "1Jp8LMgKjavRuQcUsDnMcA_54t5pkAzZO",
      "authorship_tag": "ABX9TyPi7c8sclM0QqKX/cJfgvpY",
      "include_colab_link": true
    },
    "kernelspec": {
      "name": "python3",
      "display_name": "Python 3"
    },
    "language_info": {
      "name": "python"
    },
    "accelerator": "TPU"
  },
  "cells": [
    {
      "cell_type": "markdown",
      "metadata": {
        "id": "view-in-github",
        "colab_type": "text"
      },
      "source": [
        "<a href=\"https://colab.research.google.com/github/havihaviplants/Machine-learning/blob/main/CIFAR_100.ipynb\" target=\"_parent\"><img src=\"https://colab.research.google.com/assets/colab-badge.svg\" alt=\"Open In Colab\"/></a>"
      ]
    },
    {
      "cell_type": "code",
      "execution_count": null,
      "metadata": {
        "id": "FDjNoaxm5WhD"
      },
      "outputs": [],
      "source": [
        "import tensorflow as tf\n",
        "from tensorflow.keras import layers, models\n",
        "from tensorflow.keras.preprocessing.image import ImageDataGenerator\n",
        "from sklearn.utils import shuffle"
      ]
    },
    {
      "cell_type": "code",
      "source": [
        "# 자신의 Google Drive 마운트하는 코드를 추가하자!\n",
        "mnist = ('/content/drive/MyDrive/MY Drive/cifar100_noisy_test_public.npz')\n"
      ],
      "metadata": {
        "id": "gI30eaRA6SRE"
      },
      "execution_count": null,
      "outputs": []
    },
    {
      "cell_type": "code",
      "source": [
        "# 데이터 로드 및 전처리\n",
        "(train_images, train_labels), (test_images, test_labels) = tf.keras.datasets.cifar100.load_data()"
      ],
      "metadata": {
        "colab": {
          "base_uri": "https://localhost:8080/"
        },
        "id": "dyDymkGa8wUN",
        "outputId": "fcdeeadd-40a8-4d89-f47c-aba544390526"
      },
      "execution_count": null,
      "outputs": [
        {
          "output_type": "stream",
          "name": "stdout",
          "text": [
            "Downloading data from https://www.cs.toronto.edu/~kriz/cifar-100-python.tar.gz\n",
            "169001437/169001437 [==============================] - 2s 0us/step\n"
          ]
        }
      ]
    },
    {
      "cell_type": "code",
      "source": [
        "# 이미지 크기 조정\n",
        "train_images = tf.image.resize(train_images, (48, 48))\n",
        "test_images = tf.image.resize(test_images, (48, 48))"
      ],
      "metadata": {
        "id": "-Znx9IZT84i6"
      },
      "execution_count": null,
      "outputs": []
    },
    {
      "cell_type": "code",
      "source": [
        "# 노이즈 추가 및 데이터 섞기\n",
        "train_images_noisy = train_images + 0.1 * tf.random.normal(train_images.shape)\n",
        "train_images_noisy = tf.clip_by_value(train_images_noisy, 0, 1)"
      ],
      "metadata": {
        "id": "qS2Tj1859BQe"
      },
      "execution_count": null,
      "outputs": []
    },
    {
      "cell_type": "code",
      "source": [
        "# 레이블 섞기\n",
        "train_labels = shuffle(train_labels)\n"
      ],
      "metadata": {
        "id": "q3JNdz4M9aFz"
      },
      "execution_count": null,
      "outputs": []
    },
    {
      "cell_type": "code",
      "source": [
        "# 모델 아키텍처 정의\n",
        "model = models.Sequential([\n",
        "    layers.Conv2D(32, (3, 3), activation='relu', input_shape=(48, 48, 3)),\n",
        "    layers.MaxPooling2D((2, 2)),\n",
        "    layers.Conv2D(64, (3, 3), activation='relu'),\n",
        "    layers.MaxPooling2D((2, 2)),\n",
        "    layers.Flatten(),\n",
        "    layers.Dense(128, activation='relu'),\n",
        "    layers.Dense(100, activation='softmax')  # 클래스 수에 맞게 조절\n",
        "])"
      ],
      "metadata": {
        "id": "N0tJznmc-gAU"
      },
      "execution_count": null,
      "outputs": []
    },
    {
      "cell_type": "code",
      "source": [
        "# 모델 컴파일\n",
        "model.compile(optimizer='adam',\n",
        "              loss='sparse_categorical_crossentropy',\n",
        "              metrics=['accuracy'])"
      ],
      "metadata": {
        "id": "jZyGEFBH-mFL"
      },
      "execution_count": null,
      "outputs": []
    },
    {
      "cell_type": "code",
      "source": [
        "# 데이터 증강 및 학습\n",
        "datagen = ImageDataGenerator(rotation_range=20,\n",
        "                             width_shift_range=0.2,\n",
        "                             height_shift_range=0.2,\n",
        "                             horizontal_flip=True)"
      ],
      "metadata": {
        "id": "19OJlAFs-nJA"
      },
      "execution_count": null,
      "outputs": []
    },
    {
      "cell_type": "code",
      "source": [
        "datagen.fit(train_images)\n",
        "\n",
        "model.fit(datagen.flow(train_images, train_labels, batch_size=32),\n",
        "          epochs=10,\n",
        "          validation_data=(test_images, test_labels))"
      ],
      "metadata": {
        "colab": {
          "base_uri": "https://localhost:8080/"
        },
        "id": "AR0l9ywX-qLs",
        "outputId": "f9e33f8f-2781-4ad5-b5f6-8dc0baefb117"
      },
      "execution_count": null,
      "outputs": [
        {
          "output_type": "stream",
          "name": "stdout",
          "text": [
            "Epoch 1/10\n",
            "1563/1563 [==============================] - 266s 165ms/step - loss: 4.7733 - accuracy: 0.0011 - val_loss: 4.6051 - val_accuracy: 2.0000e-04\n",
            "Epoch 2/10\n",
            "1563/1563 [==============================] - 253s 162ms/step - loss: 4.6066 - accuracy: 1.4000e-04 - val_loss: 4.6056 - val_accuracy: 5.0000e-04\n",
            "Epoch 3/10\n",
            "1563/1563 [==============================] - 253s 162ms/step - loss: 4.6068 - accuracy: 1.2000e-04 - val_loss: 4.6062 - val_accuracy: 7.0000e-04\n",
            "Epoch 4/10\n",
            "1563/1563 [==============================] - 249s 159ms/step - loss: 4.6061 - accuracy: 1.8000e-04 - val_loss: 4.6052 - val_accuracy: 1.0000e-04\n",
            "Epoch 5/10\n",
            "1563/1563 [==============================] - 256s 164ms/step - loss: 4.6060 - accuracy: 4.0000e-05 - val_loss: 4.6053 - val_accuracy: 0.0000e+00\n",
            "Epoch 6/10\n",
            "1563/1563 [==============================] - 254s 163ms/step - loss: 4.6076 - accuracy: 1.4000e-04 - val_loss: 4.6051 - val_accuracy: 0.0000e+00\n",
            "Epoch 7/10\n",
            "1563/1563 [==============================] - 264s 169ms/step - loss: 4.6058 - accuracy: 0.0778 - val_loss: 4.6051 - val_accuracy: 0.0000e+00\n",
            "Epoch 8/10\n",
            "1563/1563 [==============================] - 251s 160ms/step - loss: 4.6056 - accuracy: 0.0000e+00 - val_loss: 4.6052 - val_accuracy: 0.0000e+00\n",
            "Epoch 9/10\n",
            "1563/1563 [==============================] - 251s 160ms/step - loss: 4.6056 - accuracy: 0.0000e+00 - val_loss: 4.6053 - val_accuracy: 0.0000e+00\n",
            "Epoch 10/10\n",
            "1563/1563 [==============================] - 250s 160ms/step - loss: 4.6053 - accuracy: 0.0000e+00 - val_loss: 4.6053 - val_accuracy: 0.0000e+00\n"
          ]
        },
        {
          "output_type": "execute_result",
          "data": {
            "text/plain": [
              "<keras.callbacks.History at 0x7e6bec53de10>"
            ]
          },
          "metadata": {},
          "execution_count": 14
        }
      ]
    },
    {
      "cell_type": "code",
      "source": [
        "import pandas as pd\n",
        "\n",
        "df = pd.DataFrame({\n",
        "    \"Id\" : np.arange(len(x_test)).astype(int),\n",
        "    \"Category\" : y_pred.astype(int)\n",
        "})\n",
        "df.to_csv(\"my_submission.csv\", index=False)"
      ],
      "metadata": {
        "id": "hOKKRPZeJ8TB",
        "outputId": "04c8eb04-cde8-4ee8-bda8-202409d98c84",
        "colab": {
          "base_uri": "https://localhost:8080/",
          "height": 255
        }
      },
      "execution_count": null,
      "outputs": [
        {
          "output_type": "error",
          "ename": "NameError",
          "evalue": "ignored",
          "traceback": [
            "\u001b[0;31m---------------------------------------------------------------------------\u001b[0m",
            "\u001b[0;31mNameError\u001b[0m                                 Traceback (most recent call last)",
            "\u001b[0;32m<ipython-input-15-74197f8ac1fe>\u001b[0m in \u001b[0;36m<cell line: 3>\u001b[0;34m()\u001b[0m\n\u001b[1;32m      2\u001b[0m \u001b[0;34m\u001b[0m\u001b[0m\n\u001b[1;32m      3\u001b[0m df = pd.DataFrame({\n\u001b[0;32m----> 4\u001b[0;31m     \u001b[0;34m\"Id\"\u001b[0m \u001b[0;34m:\u001b[0m \u001b[0mnp\u001b[0m\u001b[0;34m.\u001b[0m\u001b[0marange\u001b[0m\u001b[0;34m(\u001b[0m\u001b[0mlen\u001b[0m\u001b[0;34m(\u001b[0m\u001b[0mx_test\u001b[0m\u001b[0;34m)\u001b[0m\u001b[0;34m)\u001b[0m\u001b[0;34m.\u001b[0m\u001b[0mastype\u001b[0m\u001b[0;34m(\u001b[0m\u001b[0mint\u001b[0m\u001b[0;34m)\u001b[0m\u001b[0;34m,\u001b[0m\u001b[0;34m\u001b[0m\u001b[0;34m\u001b[0m\u001b[0m\n\u001b[0m\u001b[1;32m      5\u001b[0m     \u001b[0;34m\"Category\"\u001b[0m \u001b[0;34m:\u001b[0m \u001b[0my_pred\u001b[0m\u001b[0;34m.\u001b[0m\u001b[0mastype\u001b[0m\u001b[0;34m(\u001b[0m\u001b[0mint\u001b[0m\u001b[0;34m)\u001b[0m\u001b[0;34m\u001b[0m\u001b[0;34m\u001b[0m\u001b[0m\n\u001b[1;32m      6\u001b[0m })\n",
            "\u001b[0;31mNameError\u001b[0m: name 'np' is not defined"
          ]
        }
      ]
    }
  ]
}