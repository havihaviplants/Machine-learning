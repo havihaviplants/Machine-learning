{
 "cells": [
  {
   "cell_type": "code",
   "execution_count": null,
   "id": "a594310c",
   "metadata": {},
   "outputs": [],
   "source": [
    "import pandas as pd\n"
   ]
  },
  {
   "cell_type": "code",
   "execution_count": null,
   "id": "e964c6d9",
   "metadata": {},
   "outputs": [],
   "source": [
    "data = DataFrame()\n",
    "\n",
    "data.head() ## 처음 5개의 행을 보여줌.\n",
    "\n",
    "data.tail() ## 마지막 5개의 행을 보여줌.\n"
   ]
  },
  {
   "cell_type": "code",
   "execution_count": null,
   "id": "76ed220e",
   "metadata": {},
   "outputs": [],
   "source": [
    "petal = iris['petal.width']\n",
    "\n",
    "plt.hist(petal, bins=5) ## 5개의 구간을 나눠서 보여준다. "
   ]
  },
  {
   "cell_type": "code",
   "execution_count": null,
   "id": "7d72adf8",
   "metadata": {
    "collapsed": true
   },
   "outputs": [],
   "source": []
  },
  {
   "cell_type": "code",
   "execution_count": null,
   "id": "ce18fa02",
   "metadata": {
    "collapsed": true
   },
   "outputs": [],
   "source": []
  }
 ],
 "metadata": {
  "kernelspec": {
   "display_name": "Python 3 (ipykernel)",
   "language": "python",
   "name": "python3"
  }
 },
 "nbformat": 4,
 "nbformat_minor": 5
}
