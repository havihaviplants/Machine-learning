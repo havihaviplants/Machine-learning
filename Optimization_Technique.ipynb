{
  "nbformat": 4,
  "nbformat_minor": 0,
  "metadata": {
    "colab": {
      "provenance": [],
      "gpuType": "T4",
      "mount_file_id": "1SjCC3VCSGn55p8OviXpSKpi80CjP92f4",
      "authorship_tag": "ABX9TyOVq0fPLaXOnG1AJWooRRrT",
      "include_colab_link": true
    },
    "kernelspec": {
      "name": "python3",
      "display_name": "Python 3"
    },
    "language_info": {
      "name": "python"
    },
    "accelerator": "GPU"
  },
  "cells": [
    {
      "cell_type": "markdown",
      "metadata": {
        "id": "view-in-github",
        "colab_type": "text"
      },
      "source": [
        "<a href=\"https://colab.research.google.com/github/havihaviplants/Machine-learning/blob/main/Optimization_Technique.ipynb\" target=\"_parent\"><img src=\"https://colab.research.google.com/assets/colab-badge.svg\" alt=\"Open In Colab\"/></a>"
      ]
    },
    {
      "cell_type": "code",
      "execution_count": null,
      "metadata": {
        "id": "PdgfReTnKOF6"
      },
      "outputs": [],
      "source": [
        "import numpy as np\n",
        "import torch\n",
        "from torch import nn\n",
        "import torch.nn.functional as F"
      ]
    },
    {
      "cell_type": "code",
      "source": [
        "# 자신의 Google Drive 마운트하는 코드를 추가하자!\n",
        "\n",
        "mnist = np.load('/content/drive/MyDrive/MY Drive/mnist.npz')\n",
        "\n",
        "x_train = (mnist['x_train'] - np.mean(mnist['x_train'])) / np.std(mnist['x_train'])\n",
        "y_train = mnist['y_train']\n",
        "x_test = (mnist['x_test'] - np.mean(mnist['x_train'])) / np.std(mnist['x_train'])\n",
        "y_test = mnist['y_test']\n",
        "print(x_train.shape, y_train.shape, x_test.shape, y_test.shape)"
      ],
      "metadata": {
        "colab": {
          "base_uri": "https://localhost:8080/"
        },
        "id": "pQ47M8ZmKhKj",
        "outputId": "c0603909-8559-4cc8-d1d5-cb7c5197416f"
      },
      "execution_count": null,
      "outputs": [
        {
          "output_type": "stream",
          "name": "stdout",
          "text": [
            "(60000, 28, 28) (60000,) (10000, 28, 28) (10000,)\n"
          ]
        }
      ]
    },
    {
      "cell_type": "code",
      "source": [
        "from torch.utils.data import TensorDataset, DataLoader\n",
        "\n",
        "# Train Data Set\n",
        "\n",
        "train_dataset = TensorDataset(torch.FloatTensor(x_train), torch.LongTensor(y_train))\n",
        "train_dl = DataLoader(train_dataset, batch_size=32, shuffle=True, num_workers=0)\n",
        "\n",
        "# Test Data Set\n",
        "\n",
        "test_dataset = TensorDataset(torch.FloatTensor(x_test), torch.LongTensor(y_test))\n",
        "test_dl = DataLoader(test_dataset, batch_size=32, shuffle=False, num_workers=0)"
      ],
      "metadata": {
        "id": "zIIi2vkcLCsN"
      },
      "execution_count": null,
      "outputs": []
    },
    {
      "cell_type": "code",
      "source": [
        "# GPU 사용 여부 확인\n",
        "\n",
        "device = torch.device('cuda' if torch.cuda.is_available() else 'cpu')\n",
        "print(device)"
      ],
      "metadata": {
        "colab": {
          "base_uri": "https://localhost:8080/"
        },
        "id": "xfGkoNDaLRQz",
        "outputId": "e4e0e0b0-5fa9-43a6-bba6-d048be200810"
      },
      "execution_count": null,
      "outputs": [
        {
          "output_type": "stream",
          "name": "stdout",
          "text": [
            "cuda\n"
          ]
        }
      ]
    },
    {
      "cell_type": "code",
      "source": [
        "class MLP(nn.Module):\n",
        " def __init__(self):\n",
        "  super().__init__()\n",
        "  self.fc1 = nn.Linear(28*28, 512, bias=False)\n",
        "  self.fc2 = nn.Linear(512, 512, bias=False)\n",
        "  self.fc3 = nn.Linear(512, 10, bias=False)\n",
        "\n",
        "  self.bn1 = nn.BatchNorm1d(512)\n",
        "  self.bn2 = nn.BatchNorm1d(512)\n",
        "\n",
        "  self.dropout1 = nn.Dropout(0.3)\n",
        "  self.dropout2 = nn.Dropout(0.3)\n",
        "\n",
        " def forward(self, x):\n",
        "  x = F.relu(self.bn1(self.fc1(x))) # layer 1\n",
        "  x = self.dropout1(x)\n",
        "  x = F.relu(self.bn2(self.fc2(x))) # layer 2\n",
        "  x = self.dropout2(x)\n",
        "  x = self.fc3(x) # layer 3\n",
        "\n",
        "  return x\n"
      ],
      "metadata": {
        "id": "2LqmTS8GLVMU"
      },
      "execution_count": null,
      "outputs": []
    },
    {
      "cell_type": "code",
      "source": [
        "from torch.optim import SGD, Adagrad, RMSprop, Adam\n",
        "model = MLP().to(device)\n",
        "criterion = nn.CrossEntropyLoss().to(device)\n",
        "\n",
        "# Optimization 방법을 변경해보면서 학습속도를 비교해보자!\n",
        "\n",
        "opti = SGD(model.parameters(), lr=1e-3) # Basic Stochastic Gradient Descent\n",
        "opti = SGD(model.parameters(), lr=1e-3, momentum=0.9) # Momentum\n",
        "opti = Adagrad(model.parameters(), lr=1e-3) # Adagrad\n",
        "opti = RMSprop(model.parameters(), lr=1e-3, alpha=0.99) # RMSprop\n",
        "opti = Adam(model.parameters(), lr=1e-3) # Adam"
      ],
      "metadata": {
        "id": "gQQ1RBXFLlfr"
      },
      "execution_count": null,
      "outputs": []
    },
    {
      "cell_type": "code",
      "source": [
        "def train(model, dataloader, criterion, data_len, opti):\n",
        " correct = 0\n",
        "\n",
        " model.train()\n",
        " for data, target in dataloader:\n",
        "  data = data.view(-1, 28 * 28).to(device)\n",
        "  target = target.to(device)\n",
        "\n",
        " output = model(data)\n",
        " loss = criterion(output, target)\n",
        "\n",
        " opti.zero_grad()\n",
        " loss.backward()\n",
        " opti.step()\n",
        "\n",
        " pred = output.max(1, keepdim=True)[1]\n",
        " correct += pred.eq(target.view_as(pred)).sum().item()\n",
        "\n",
        " acc = 100. * correct / data_len\n",
        " return acc"
      ],
      "metadata": {
        "id": "k6XZ0d8bLtvb"
      },
      "execution_count": null,
      "outputs": []
    },
    {
      "cell_type": "code",
      "source": [
        "def evaluate(model, dataloader, criterion, data_len):\n",
        " correct = 0\n",
        "\n",
        " model.eval()\n",
        " for data, target in dataloader:\n",
        "  data = data.view(-1, 28 * 28).to(device)\n",
        "  target = target.to(device)\n",
        "\n",
        "  output = model(data)\n",
        "  loss = criterion(output, target)\n",
        "\n",
        "  pred = output.max(1, keepdim=True)[1]\n",
        "  correct += pred.eq(target.view_as(pred)).sum().item()\n",
        "\n",
        " acc = 100. * correct / data_len\n",
        " return acc\n"
      ],
      "metadata": {
        "id": "vGxgM31kLxkL"
      },
      "execution_count": null,
      "outputs": []
    },
    {
      "cell_type": "code",
      "source": [
        "def predict(model, dataloader, criterion):\n",
        " output_list = []\n",
        "\n",
        " model.eval()\n",
        "\n",
        " for data, target in dataloader:\n",
        "  data = data.view(-1, 28 * 28).to(device)\n",
        "  target = target.to(device)\n",
        "\n",
        "  output = model(data)\n",
        "  output_list += output.tolist()\n",
        "\n",
        " return np.array(output_list)\n"
      ],
      "metadata": {
        "id": "OqfNORZGL7X5"
      },
      "execution_count": null,
      "outputs": []
    },
    {
      "cell_type": "code",
      "source": [
        "epoch = 7\n",
        "\n",
        "for i in range(epoch):\n",
        " train_acc = train(model, train_dl, criterion, len(train_dl.dataset), opti)\n",
        " val_acc = evaluate(model, test_dl, criterion, len(test_dl.dataset))\n",
        " print(i, train_acc, val_acc)"
      ],
      "metadata": {
        "colab": {
          "base_uri": "https://localhost:8080/"
        },
        "id": "6B6E19iwMDYP",
        "outputId": "539682fe-4b23-4ce4-9a12-3523d3a2b2dd"
      },
      "execution_count": null,
      "outputs": [
        {
          "output_type": "stream",
          "name": "stdout",
          "text": [
            "0 0.006666666666666667 62.71\n",
            "1 0.006666666666666667 63.28\n",
            "2 0.005 63.74\n",
            "3 0.008333333333333333 63.81\n",
            "4 0.008333333333333333 64.36\n",
            "5 0.0033333333333333335 65.12\n",
            "6 0.006666666666666667 65.93\n"
          ]
        }
      ]
    },
    {
      "cell_type": "code",
      "source": [
        "from torch.optim import Adam\n",
        "from torch.optim.lr_scheduler import StepLR, ExponentialLR, CosineAnnealingLR, CyclicLR\n",
        "\n",
        "opti = Adam(model.parameters(), lr=1e-2)\n",
        "# 여러가지 Scheduler를 변경하면서 학습추이를 비교해보자!\n",
        "\n",
        "scheduler = StepLR(opti, step_size=30, gamma=0.65)\n",
        "scheduler = ExponentialLR(opti, gamma=0.98)\n",
        "scheduler = CosineAnnealingLR(opti, T_max=100, eta_min=1e-3)\n",
        "scheduler = CyclicLR (opti, base_lr=1e-2, max_lr=1e-1, step_size_up=50,step_size_down=100, mode='triangular', cycle_momentum=False)\n",
        "\n",
        "lrs = []\n",
        "\n",
        "for i in range(1000):\n",
        " lrs.append(scheduler.get_last_lr())\n",
        "\n",
        " opti.step()\n",
        " scheduler.step()\n",
        "lrs = np.array(lrs)\n"
      ],
      "metadata": {
        "id": "tVTLIpUfQBau"
      },
      "execution_count": null,
      "outputs": []
    },
    {
      "cell_type": "code",
      "source": [
        "import matplotlib.pyplot as plt\n",
        "plt.plot(lrs)\n",
        "plt.show()\n"
      ],
      "metadata": {
        "colab": {
          "base_uri": "https://localhost:8080/",
          "height": 430
        },
        "id": "z31Shpw6QIEr",
        "outputId": "92e68cc5-47c6-4eed-f431-ce320ec7b885"
      },
      "execution_count": null,
      "outputs": [
        {
          "output_type": "display_data",
          "data": {
            "text/plain": [
              "<Figure size 640x480 with 1 Axes>"
            ],
            "image/png": "[encoded data removed]"
          },
          "metadata": {}
        }
      ]
    },
    {
      "cell_type": "code",
      "source": [
        "from sklearn.model_selection import KFold\n",
        "from torch.utils.data import SubsetRandomSampler\n",
        "k_num = 4\n",
        "kfold = KFold(n_splits=k_num, shuffle=True)\n"
      ],
      "metadata": {
        "id": "_yEUXelDQL-7"
      },
      "execution_count": null,
      "outputs": []
    },
    {
      "cell_type": "code",
      "source": [
        "epoch = 10\n",
        "models = [] # 여러 모델들을 저장할 리스트 생성\n",
        "for fold, (train_ids, val_ids) in enumerate(kfold.split(train_dataset)):\n",
        " train_subsampler = SubsetRandomSampler(train_ids)\n",
        " val_subsampler = SubsetRandomSampler(val_ids)\n",
        "\n",
        " train_dl = DataLoader(train_dataset, batch_size=32, sampler=train_subsampler)\n",
        " val_dl = DataLoader(train_dataset, batch_size=32, sampler=val_subsampler)\n",
        "\n",
        " model = MLP().to(device)\n",
        " opti = Adam(model.parameters(), lr=1e-3)\n",
        "\n",
        " for i in range(epoch):\n",
        "  train_acc = train(model, train_dl, criterion, len(train_subsampler), opti)\n",
        " val_acc = evaluate(model, val_dl, criterion, len(val_subsampler))\n",
        " print(fold, i, train_acc, val_acc)\n",
        " print()\n",
        "\n",
        " models.append(model)"
      ],
      "metadata": {
        "colab": {
          "base_uri": "https://localhost:8080/"
        },
        "id": "aTCx3nmcQQt5",
        "outputId": "fb836a20-6803-4f3a-d963-e282b96519ec"
      },
      "execution_count": null,
      "outputs": [
        {
          "output_type": "stream",
          "name": "stdout",
          "text": [
            "0 9 0.006666666666666667 55.733333333333334\n",
            "\n",
            "1 9 0.008888888888888889 56.94\n",
            "\n",
            "2 9 0.013333333333333334 61.44\n",
            "\n",
            "3 9 0.006666666666666667 44.95333333333333\n",
            "\n"
          ]
        }
      ]
    },
    {
      "cell_type": "code",
      "source": [
        "test_dl = DataLoader(test_dataset, batch_size=32, shuffle=False)\n",
        "outputs = []\n",
        "for model in models:\n",
        " test_acc = evaluate(model, test_dl, criterion, len(test_dataset))\n",
        " print(test_acc) # 각각의 모델들의 결과를 출력\n",
        "\n",
        " output = predict(model, test_dl, criterion)\n",
        " outputs.append(output)\n",
        "\n",
        "# 각 모델들의 결과를 취합해서 하나의 결과로 도출함\n",
        "outputs = np.sum(np.array(outputs), axis=0)\n",
        "y_pred = np.argmax(outputs, axis=-1)\n"
      ],
      "metadata": {
        "colab": {
          "base_uri": "https://localhost:8080/"
        },
        "id": "dvKNLz-GQoY2",
        "outputId": "0dd5fe1c-3220-4e76-eb77-c333742406c2"
      },
      "execution_count": null,
      "outputs": [
        {
          "output_type": "stream",
          "name": "stdout",
          "text": [
            "57.39\n",
            "57.31\n",
            "61.8\n",
            "45.63\n"
          ]
        }
      ]
    },
    {
      "cell_type": "code",
      "source": [
        "from sklearn.metrics import accuracy_score\n",
        "# y_true 데이터만 불러옴 (정확도 측정을 위해서...)\n",
        "y_true = []\n",
        "for _, target in test_dl:\n",
        " y_true += target.tolist()\n",
        "\n",
        "y_true = np.array(y_true).reshape(-1,)\n",
        "print(accuracy_score(y_true, y_pred))"
      ],
      "metadata": {
        "colab": {
          "base_uri": "https://localhost:8080/"
        },
        "id": "M92YoQosQsAx",
        "outputId": "d934b33e-b5a1-4f67-e7e0-8602873db364"
      },
      "execution_count": null,
      "outputs": [
        {
          "output_type": "stream",
          "name": "stdout",
          "text": [
            "0.6492\n"
          ]
        }
      ]
    }
  ]
}