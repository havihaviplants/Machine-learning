{
  "nbformat": 4,
  "nbformat_minor": 0,
  "metadata": {
    "colab": {
      "provenance": []
    },
    "kernelspec": {
      "name": "python3",
      "display_name": "Python 3"
    },
    "language_info": {
      "name": "python"
    }
  },
  "cells": [
    {
      "cell_type": "code",
      "execution_count": null,
      "metadata": {
        "id": "HsWfhW7s0GL3"
      },
      "outputs": [],
      "source": [
        "import pandas as pd\n",
        "import numpy as np\n",
        "import matplotlib.pyplot as plt\n",
        "\n",
        "df_data = pd.read_csv(\"/content/drive/MyDrive/MY Drive/boston_housing.csv\")"
      ]
    },
    {
      "cell_type": "code",
      "source": [
        "bh_data = np.array(df_data.values, dtype=np.float32)\n",
        "x_train = np.array(bh_data[:400,:13], dtype=np.float32).reshape(-1, 13)\n",
        "y_train = np.array(bh_data[:400,13], dtype=np.float32).reshape(-1, 1)\n",
        "x_test = np.array(bh_data[400:,:13], dtype=np.float32).reshape(-1, 13)\n",
        "y_test = np.array(bh_data[400:,13], dtype=np.float32).reshape(-1, 1)\n",
        "mu = np.mean(x_train, axis=0)\n",
        "sigma = np.std(x_train, axis=0)\n",
        "print(mu.shape, sigma.shape)\n",
        "x_train = (x_train - mu) / sigma # toward normal distribution\n",
        "x_test = (x_test - mu) / sigma # toward normal distribution\n",
        "print(x_train.shape, y_train.shape, x_test.shape, y_test.shape)"
      ],
      "metadata": {
        "colab": {
          "base_uri": "https://localhost:8080/"
        },
        "id": "_0U7WHL218oG",
        "outputId": "20dfce5f-3b50-4fe7-8625-67f7de43e41c"
      },
      "execution_count": null,
      "outputs": [
        {
          "output_type": "stream",
          "name": "stdout",
          "text": [
            "(13,) (13,)\n",
            "(400, 13) (400, 1) (106, 13) (106, 1)\n"
          ]
        }
      ]
    },
    {
      "cell_type": "code",
      "source": [
        "class Linear:\n",
        "  def __init__(self, in_features, out_features):\n",
        "    self.weight = np.random.rand(in_features, out_features) # weight random 초기화\n",
        "    self.bias = np.random.rand(out_features) # bias random 초기화\n",
        "\n",
        "    self.grad_w = np.zeros_like(self.weight) # gradients of weight\n",
        "    self.grad_b = np.zeros_like(self.bias) # gradients of bias\n",
        "  def forward(self, x):\n",
        "    self.input_x = x\n",
        "    x = np.dot(x, self.weight) + self.bias # wx + b\n",
        "    return x\n",
        "  def backward(self, grad_output):\n",
        "    self.grad_w = np.dot(self.input_x.T, grad_output) # weight의 gradient 계산\n",
        "    self.grad_b = np.sum(grad_output, axis=0) # bias의 gradient 계산\n",
        "    grad_input = np.dot(grad_output, self.weight.T) # backprogation을 위한 grad input 계산\n",
        "\n",
        "    return grad_input\n",
        "\n",
        "  def zero_grad(self):\n",
        "    self.grad_w.fill(0.)\n",
        "    self.grad_b.fill(0.)\n"
      ],
      "metadata": {
        "id": "HxHXrD6K2AgG"
      },
      "execution_count": null,
      "outputs": []
    },
    {
      "cell_type": "code",
      "source": [
        "class ReLU:\n",
        " def forward(self, x):\n",
        "  self.input = x\n",
        "  return np.maximum(x, 0)\n",
        "\n",
        "  def backward(self, grad_output):\n",
        "    grad_input = grad_output.copy()\n",
        "    grad_input[self.input < 0] = 0 # 0 보다 크면 gradient는 1, 그렇지 않으면 0\n",
        "\n",
        "    return grad_input"
      ],
      "metadata": {
        "id": "RItF9T6_3fJ2"
      },
      "execution_count": null,
      "outputs": []
    }
  ]
}