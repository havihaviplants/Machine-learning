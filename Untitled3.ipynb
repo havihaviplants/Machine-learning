{
  "nbformat": 4,
  "nbformat_minor": 0,
  "metadata": {
    "colab": {
      "provenance": [],
      "mount_file_id": "1nwAdIrg1RAvXty2Cu89axSXF8q3QqlVv",
      "authorship_tag": "ABX9TyNVgpE7gBWxaOiDn1jle0um",
      "include_colab_link": true
    },
    "kernelspec": {
      "name": "python3",
      "display_name": "Python 3"
    },
    "language_info": {
      "name": "python"
    },
    "accelerator": "TPU"
  },
  "cells": [
    {
      "cell_type": "markdown",
      "metadata": {
        "id": "view-in-github",
        "colab_type": "text"
      },
      "source": [
        "<a href=\"https://colab.research.google.com/github/havihaviplants/Machine-learning/blob/main/Untitled3.ipynb\" target=\"_parent\"><img src=\"https://colab.research.google.com/assets/colab-badge.svg\" alt=\"Open In Colab\"/></a>"
      ]
    },
    {
      "cell_type": "code",
      "execution_count": null,
      "metadata": {
        "id": "9RHu5e7_GVVc"
      },
      "outputs": [],
      "source": [
        "import numpy as np\n",
        "import torch\n",
        "from torch import nn\n",
        "import torch.nn.functional as F"
      ]
    },
    {
      "cell_type": "code",
      "source": [
        "# GPU 사용 여부 확인\n",
        "device = torch.device('cuda' if torch.cuda.is_available() else 'cpu')\n",
        "print(device)"
      ],
      "metadata": {
        "colab": {
          "base_uri": "https://localhost:8080/"
        },
        "id": "RPBqRsN7GkTS",
        "outputId": "3b648252-8a1f-495c-e565-b4feec8edf44"
      },
      "execution_count": null,
      "outputs": [
        {
          "output_type": "stream",
          "name": "stdout",
          "text": [
            "cpu\n"
          ]
        }
      ]
    },
    {
      "cell_type": "code",
      "source": [
        "# 자신의 Google Drive 마운트하는 코드를 추가하자!\n",
        "mnist = np.load('/content/drive/MyDrive/MY Drive/mnist.npz')\n",
        "x_train = (mnist['x_train'] - np.mean(mnist['x_train'])) / np.std(mnist['x_train'])\n",
        "y_train = mnist['y_train']\n",
        "x_test = (mnist['x_test'] - np.mean(mnist['x_train'])) / np.std(mnist['x_train'])\n",
        "y_test = mnist['y_test']\n",
        "print(x_train.shape, y_train.shape, x_test.shape, y_test.shape)"
      ],
      "metadata": {
        "colab": {
          "base_uri": "https://localhost:8080/"
        },
        "id": "rdGeOzegGlVA",
        "outputId": "4ea2acb9-9d7d-4197-830e-79b8a7a8bffb"
      },
      "execution_count": null,
      "outputs": [
        {
          "output_type": "stream",
          "name": "stdout",
          "text": [
            "(60000, 28, 28) (60000,) (10000, 28, 28) (10000,)\n"
          ]
        }
      ]
    },
    {
      "cell_type": "code",
      "source": [
        "from torch.utils.data import TensorDataset, DataLoader\n",
        "# Train Data Set\n",
        "train_dataset = TensorDataset(torch.FloatTensor(x_train), torch.LongTensor(y_train))\n",
        "train_dataloader = DataLoader(train_dataset, batch_size=32, shuffle=True)\n",
        "# Test Data Set\n",
        "test_dataset = TensorDataset(torch.FloatTensor(x_test), torch.LongTensor(y_test))\n",
        "test_dataloader = DataLoader(test_dataset, batch_size=32, shuffle=False)"
      ],
      "metadata": {
        "id": "1Kxb1MXuG1EX"
      },
      "execution_count": null,
      "outputs": []
    },
    {
      "cell_type": "code",
      "source": [
        "dimension = 28\n",
        "sequence_length = 28\n",
        "hidden_size = 128\n",
        "num_layers = 2\n",
        "num_classes = 10\n"
      ],
      "metadata": {
        "id": "FM56O7MAG2js"
      },
      "execution_count": null,
      "outputs": []
    },
    {
      "cell_type": "code",
      "source": [
        "class RNN(nn.Module):\n",
        " def __init__(self, dimension, hidden_size, num_layers, num_classes, device):\n",
        "  super().__init__()\n",
        "\n",
        "  self.dimension = dimension\n",
        "  self.hidden_size = hidden_size\n",
        "  self.num_layers = num_layers\n",
        "  self.num_classes = num_classes\n",
        "  self.device = device\n",
        "\n",
        " # if batch_fist == True, then x is (batch_size, sequence_length, dimension)\n",
        " # otherwise, x is (sequence_length, batch_size, dimension)\n",
        "  self.lstm = nn.LSTM(self.dimension, self.hidden_size, self.num_layers, batch_first=True)\n",
        "  self.fc = nn.Linear(self.hidden_size, self.num_classes)\n",
        "\n",
        " def forward(self, x):\n",
        " # (num_layers, batch_size, hidden_size)\n",
        "  h0 = torch.zeros(self.num_layers, x.size(0), self.hidden_size).to(device)\n",
        "  c0 = torch.zeros(self.num_layers, x.size(0), self.hidden_size).to(device)\n",
        "\n",
        "  out, _ = self.lstm(x, (h0, c0))\n",
        "  out = self.fc(out[:, -1, :])\n",
        "\n",
        "  return out"
      ],
      "metadata": {
        "id": "c2OuQalRG90G"
      },
      "execution_count": null,
      "outputs": []
    },
    {
      "cell_type": "code",
      "source": [
        "from torch.optim import Adam\n",
        "model = RNN(dimension=dimension, hidden_size=hidden_size, num_layers=num_layers, num_classes=num_classes, device=device).to(device)\n",
        "criterion = nn.CrossEntropyLoss().to(device)\n",
        "opti = Adam(model.parameters(), lr=1e-4)"
      ],
      "metadata": {
        "id": "2Gde_4mtHG-8"
      },
      "execution_count": null,
      "outputs": []
    },
    {
      "cell_type": "code",
      "source": [
        "def train(model, dataloader, criterion, data_len, opti):\n",
        " correct = 0\n",
        "\n",
        " model.train()\n",
        " for data, target in dataloader:\n",
        "  data = data.view(-1, sequence_length, dimension).to(device)\n",
        " target = target.to(device)\n",
        "\n",
        " output = model(data)\n",
        " loss = criterion(output, target)\n",
        "\n",
        " opti.zero_grad()\n",
        " loss.backward()\n",
        " opti.step()\n",
        "\n",
        " pred = output.max(1, keepdim=True)[1]\n",
        " correct += pred.eq(target.view_as(pred)).sum().item()\n",
        "\n",
        " acc = 100. * correct / data_len\n",
        " return acc\n"
      ],
      "metadata": {
        "id": "gT_tmz1lHIqA"
      },
      "execution_count": null,
      "outputs": []
    },
    {
      "cell_type": "code",
      "source": [
        "def evaluate(model, dataloader, criterion, data_len):\n",
        " correct = 0\n",
        "\n",
        " model.eval()\n",
        " for data, target in dataloader:\n",
        "  data = data.view(-1, sequence_length, dimension).to(device)\n",
        " target = target.to(device)\n",
        "\n",
        " output = model(data)\n",
        " loss = criterion(output, target)\n",
        "\n",
        " pred = output.max(1, keepdim=True)[1]\n",
        " correct += pred.eq(target.view_as(pred)).sum().item()\n",
        "\n",
        " acc = 100. * correct / data_len\n",
        " return acc"
      ],
      "metadata": {
        "id": "rpKnQ77yHN-y"
      },
      "execution_count": null,
      "outputs": []
    },
    {
      "cell_type": "code",
      "source": [
        "epoch = 10\n",
        "for i in range(epoch):\n",
        " train_acc = train(model, train_dataloader, criterion, len(train_dataloader.dataset), opti)\n",
        " val_acc = evaluate(model, test_dataloader, criterion, len(test_dataloader.dataset))\n",
        " print(f\"[Epoch: {i:2d}], [Train Acc: {train_acc:3.4f}], [Val Acc: {val_acc:3.4f}]\")"
      ],
      "metadata": {
        "colab": {
          "base_uri": "https://localhost:8080/"
        },
        "id": "Vwn0oSvMHSIb",
        "outputId": "fcb3b68f-bac1-4d24-88b4-e0f3bcb1747f"
      },
      "execution_count": null,
      "outputs": [
        {
          "output_type": "stream",
          "name": "stdout",
          "text": [
            "[Epoch:  0], [Train Acc: 0.0233], [Val Acc: 0.0400]\n",
            "[Epoch:  1], [Train Acc: 0.0133], [Val Acc: 0.0400]\n",
            "[Epoch:  2], [Train Acc: 0.0217], [Val Acc: 0.0400]\n",
            "[Epoch:  3], [Train Acc: 0.0133], [Val Acc: 0.0400]\n",
            "[Epoch:  4], [Train Acc: 0.0183], [Val Acc: 0.0400]\n",
            "[Epoch:  5], [Train Acc: 0.0217], [Val Acc: 0.0400]\n",
            "[Epoch:  6], [Train Acc: 0.0150], [Val Acc: 0.0400]\n",
            "[Epoch:  7], [Train Acc: 0.0133], [Val Acc: 0.0400]\n",
            "[Epoch:  8], [Train Acc: 0.0167], [Val Acc: 0.0400]\n",
            "[Epoch:  9], [Train Acc: 0.0133], [Val Acc: 0.0400]\n"
          ]
        }
      ]
    }
  ]
}