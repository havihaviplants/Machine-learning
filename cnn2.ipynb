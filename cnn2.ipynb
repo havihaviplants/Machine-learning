{
  "nbformat": 4,
  "nbformat_minor": 0,
  "metadata": {
    "colab": {
      "provenance": [],
      "gpuType": "T4",
      "toc_visible": true,
      "include_colab_link": true
    },
    "kernelspec": {
      "name": "python3",
      "display_name": "Python 3"
    },
    "language_info": {
      "name": "python"
    },
    "accelerator": "GPU"
  },
  "cells": [
    {
      "cell_type": "markdown",
      "metadata": {
        "id": "view-in-github",
        "colab_type": "text"
      },
      "source": [
        "<a href=\"https://colab.research.google.com/github/havihaviplants/Machine-learning/blob/main/cnn2.ipynb\" target=\"_parent\"><img src=\"https://colab.research.google.com/assets/colab-badge.svg\" alt=\"Open In Colab\"/></a>"
      ]
    },
    {
      "cell_type": "code",
      "source": [
        "import numpy as np\n",
        "import torch\n",
        "from torch import nn\n",
        "import torch.nn.functional as F\n"
      ],
      "metadata": {
        "id": "CjiDnsXvVne8"
      },
      "execution_count": null,
      "outputs": []
    },
    {
      "cell_type": "code",
      "source": [
        "# 자신의 Google Drive 마운트하는 코드를 추가하자!\n",
        "mnist = np.load('/content/drive/MyDrive/MY Drive/mnist.npz')\n",
        "x_train = (mnist['x_train'] - np.mean(mnist['x_train'])) / np.std(mnist['x_train'])\n",
        "y_train = mnist['y_train']\n",
        "x_test = (mnist['x_test'] - np.mean(mnist['x_train'])) / np.std(mnist['x_train'])\n",
        "y_test = mnist['y_test']\n",
        "print(x_train.shape, y_train.shape, x_test.shape, y_test.shape)"
      ],
      "metadata": {
        "colab": {
          "base_uri": "https://localhost:8080/"
        },
        "id": "PLSrtUiMWLfo",
        "outputId": "8159fe81-221b-4ef8-b5a8-031e48094964"
      },
      "execution_count": null,
      "outputs": [
        {
          "output_type": "stream",
          "name": "stdout",
          "text": [
            "(60000, 28, 28) (60000,) (10000, 28, 28) (10000,)\n"
          ]
        }
      ]
    },
    {
      "cell_type": "code",
      "source": [
        "# MNIST 이미지의 크기를 4배로 확장\n",
        "# ImageNet에서 활용했던 네트워크 사용을 위해...\n",
        "x_train_large = np.repeat(x_train, 2, axis=1)\n",
        "x_train_large = np.repeat(x_train_large, 2, axis=2)\n",
        "x_test_large = np.repeat(x_test, 2, axis=1)\n",
        "x_test_large = np.repeat(x_test_large, 2, axis=2)\n",
        "print(x_train_large.shape, x_test_large.shape)\n"
      ],
      "metadata": {
        "colab": {
          "base_uri": "https://localhost:8080/"
        },
        "id": "SdOy3Kh7Pvhg",
        "outputId": "9d75349c-1bde-44c1-85c3-02f92aebe761"
      },
      "execution_count": null,
      "outputs": [
        {
          "output_type": "stream",
          "name": "stdout",
          "text": [
            "(60000, 56, 56) (10000, 56, 56)\n"
          ]
        }
      ]
    },
    {
      "cell_type": "code",
      "source": [
        "from torch.utils.data import TensorDataset, DataLoader\n",
        "# Train Data Set\n",
        "train_dataset = TensorDataset(torch.FloatTensor(x_train_large), torch.LongTensor(y_train))\n",
        "train_dataloader = DataLoader(train_dataset, batch_size=4, shuffle=True, num_workers=0)\n",
        "# Test Data Set\n",
        "test_dataset = TensorDataset(torch.FloatTensor(x_test_large), torch.LongTensor(y_test))\n",
        "test_dataloader = DataLoader(test_dataset, batch_size=4, shuffle=False, num_workers=0)\n",
        "# GPU 사용 여부 확인\n",
        "device = torch.device('cuda' if torch.cuda.is_available() else 'cpu')\n",
        "print(device)\n"
      ],
      "metadata": {
        "colab": {
          "base_uri": "https://localhost:8080/"
        },
        "id": "Llqwlo2EPwxi",
        "outputId": "79c87592-adde-4c2f-8a9c-8df4cb3cc14a"
      },
      "execution_count": null,
      "outputs": [
        {
          "output_type": "stream",
          "name": "stdout",
          "text": [
            "cuda\n"
          ]
        }
      ]
    },
    {
      "cell_type": "code",
      "source": [
        "class AlexNet(nn.Module):\n",
        "    def __init__(self, num_classes=10):\n",
        "        super().__init__()\n",
        "        self.features = nn.Sequential(\n",
        "\n",
        "            nn.Conv2d(1, 64, kernel_size=5, stride=1, padding=2),\n",
        "            nn.ReLU(),\n",
        "            nn.MaxPool2d(kernel_size=3, stride=2),\n",
        "            nn.Conv2d(64, 192, kernel_size=5, stride=1, padding=2),\n",
        "            nn.ReLU(),\n",
        "            nn.MaxPool2d(kernel_size=3, stride=2),\n",
        "            nn.Conv2d(192, 384, kernel_size=3, stride=1, padding=1),\n",
        "            nn.ReLU(),\n",
        "            nn.Conv2d(384, 256, kernel_size=3, stride=1, padding=1),\n",
        "            nn.ReLU(),\n",
        "            nn.Conv2d(256, 256, kernel_size=3, stride=1, padding=1),\n",
        "            nn.ReLU(),\n",
        "            nn.MaxPool2d(kernel_size=3, stride=2),\n",
        "        )\n",
        "\n",
        "        self.avgpool = nn.AdaptiveAvgPool2d((6, 6))\n",
        "        self.classifier = nn.Sequential(\n",
        "            nn.Dropout(),\n",
        "            nn.Linear(256 * 6 * 6, 4096),\n",
        "            nn.ReLU(),\n",
        "            nn.Dropout(),\n",
        "            nn.Linear(4096, 4096),\n",
        "            nn.ReLU(),\n",
        "            nn.Linear(4096, num_classes),\n",
        "        )\n",
        "\n",
        "    def forward(self, x):\n",
        "        x = self.features(x)\n",
        "        x = self.avgpool(x)\n",
        "        x = torch.flatten(x, 1)\n",
        "        x = self.classifier(x)\n",
        "        return x\n"
      ],
      "metadata": {
        "id": "iAzOZ7yMPy2w"
      },
      "execution_count": null,
      "outputs": []
    },
    {
      "cell_type": "code",
      "source": [
        "class BasicBlock(nn.Module):\n",
        " expansion = 1\n",
        " def __init__(self, in_channels, out_channels, stride=1):\n",
        "  super().__init__()\n",
        "  self.conv1 = nn.Conv2d(in_channels, out_channels, kernel_size=3, stride=stride, padding=1, bias=False)\n",
        "  self.bn1 = nn.BatchNorm2d(out_channels)\n",
        "  self.conv2 = nn.Conv2d(out_channels, out_channels, kernel_size=3, stride=1, padding=1, bias=False)\n",
        "  self.bn2 = nn.BatchNorm2d(out_channels)\n",
        "  self.shortcut = nn.Sequential()\n",
        "  if stride != 1 or in_channels != self.expansion * out_channels:\n",
        "   self.shortcut = nn.Sequential(\n",
        "    nn.Conv2d(in_channels, self.expansion * out_channels, kernel_size=1, stride=stride, bias=False),\n",
        "    nn.BatchNorm2d(self.expansion * out_channels)\n",
        "\n",
        "   )\n",
        " def forward(self, x):\n",
        "  out = F.relu(self.bn1(self.conv1(x)))\n",
        "  out = self.bn2(self.conv2(out))\n",
        "  out += self.shortcut(x)\n",
        "  out = F.relu(out)\n",
        "  return out\n"
      ],
      "metadata": {
        "id": "xnej03kvQLQo"
      },
      "execution_count": null,
      "outputs": []
    },
    {
      "cell_type": "code",
      "source": [
        "class ResNet(nn.Module):\n",
        " def __init__(self, block, num_blocks, num_classes=10): # 원래는 1000이나, MNIST 데이터셋을 활용하므로 10으로 변경\n",
        "  super().__init__()\n",
        "  self.in_channels = 64\n",
        "  # 원래는 3인데, MNIST 데이터셋을 활용하므로 1로 변경\n",
        "  self.conv1 = nn.Conv2d(1, 64, kernel_size=3, stride=1, padding=1, bias=False)\n",
        "  self.bn1 = nn.BatchNorm2d(64)\n",
        "  self.layer1 = self.make_layer(block, 64, num_blocks[0], stride=1)\n",
        "  self.layer2 = self.make_layer(block, 128, num_blocks[1], stride=2)\n",
        "  self.layer3 = self.make_layer(block, 256, num_blocks[2], stride=2)\n",
        "  self.layer4 = self.make_layer(block, 512, num_blocks[3], stride=2)\n",
        "  self.avg_pool = nn.AdaptiveAvgPool2d((1, 1))\n",
        "  self.fc = nn.Linear(512 * block.expansion, num_classes)\n",
        "\n",
        " def make_layer(self, block, out_channels, num_blocks, stride):\n",
        "  strides = [stride] + [1] * (num_blocks - 1)\n",
        "  layers = []\n",
        "  for stride in strides:\n",
        "   layers.append(block(self.in_channels, out_channels, stride))\n",
        "   self.in_channels = out_channels * block.expansion\n",
        "  return nn.Sequential(*layers)\n",
        "\n",
        " def forward(self, x):\n",
        "  out = F.relu(self.bn1(self.conv1(x)))\n",
        "  out = self.layer1(out)\n",
        "  out = self.layer2(out)\n",
        "  out = self.layer3(out)\n",
        "  out = self.layer4(out)\n",
        "  out = self.avg_pool(out)\n",
        "  out = out.view(out.size(0), -1)\n",
        "  out = self.fc(out)\n",
        "  return out\n",
        "def ResNet18(num_classes=10):\n",
        " return ResNet(BasicBlock, [2, 2, 2, 2], num_classes=num_classes)"
      ],
      "metadata": {
        "id": "BX8gv5sUQcIW"
      },
      "execution_count": null,
      "outputs": []
    },
    {
      "cell_type": "code",
      "source": [
        "from torch.optim import Adam\n",
        "# 사용하고자 하는 모델의 주석을 풀어서 활용하자!\n",
        "# model = AlexNet().to(device)\n",
        "#model = VGG16().to(device)\n",
        "model = ResNet18().to(device)\n",
        "criterion = nn.CrossEntropyLoss().to(device)\n",
        "opti = Adam(model.parameters(), lr=1e-4)\n"
      ],
      "metadata": {
        "id": "-cPBGYj-Qwhj"
      },
      "execution_count": null,
      "outputs": []
    },
    {
      "cell_type": "code",
      "source": [
        "from tqdm import tqdm\n",
        "def train(model, dataloader, criterion, data_len, opti):\n",
        " correct = 0\n",
        "\n",
        " model.train()\n",
        " for data, target in tqdm(dataloader):\n",
        "  data = data.view(-1, 1, 56, 56).to(device)\n",
        "  target = target.to(device)\n",
        "\n",
        "  output = model(data)\n",
        "  loss = criterion(output, target)\n",
        "\n",
        "  opti.zero_grad()\n",
        "  loss.backward()\n",
        "  opti.step()\n",
        "\n",
        "  pred = output.max(1, keepdim=True)[1]\n",
        "  correct += pred.eq(target.view_as(pred)).sum().item()\n",
        "\n",
        " acc = 100. * correct / data_len\n",
        " return acc"
      ],
      "metadata": {
        "id": "z0WyXlJrQzI1"
      },
      "execution_count": null,
      "outputs": []
    },
    {
      "cell_type": "code",
      "source": [
        "def evaluate(model, dataloader, criterion, data_len):\n",
        " correct = 0\n",
        "\n",
        " model.eval()\n",
        " for data, target in dataloader:\n",
        "  data = data.view(-1, 1, 56, 56).to(device)\n",
        "  target = target.to(device)\n",
        "\n",
        "  output = model(data)\n",
        "  loss = criterion(output, target)\n",
        "\n",
        "  pred = output.max(1, keepdim=True)[1]\n",
        "  correct += pred.eq(target.view_as(pred)).sum().item()\n",
        "\n",
        " acc = 100. * correct / data_len\n",
        " return acc\n"
      ],
      "metadata": {
        "id": "d9yAs-6pQ4Ux"
      },
      "execution_count": null,
      "outputs": []
    },
    {
      "cell_type": "code",
      "source": [
        "epoch = 2\n",
        "for i in range(epoch):\n",
        " train_acc = train(model, train_dataloader, criterion, len(train_dataloader.dataset), opti)\n",
        " val_acc = evaluate(model, test_dataloader, criterion, len(test_dataloader.dataset))\n",
        " print(f\"[Epoch: {i:2d}], [Train Acc: {train_acc:3.4f}], [Val Acc: {val_acc:3.4f}]\")"
      ],
      "metadata": {
        "colab": {
          "base_uri": "https://localhost:8080/"
        },
        "id": "xhQE5sC7Q83W",
        "outputId": "d190940d-f0c8-4592-98de-254d219a6db2"
      },
      "execution_count": null,
      "outputs": [
        {
          "output_type": "stream",
          "name": "stderr",
          "text": [
            "100%|██████████| 15000/15000 [04:46<00:00, 52.42it/s]\n"
          ]
        },
        {
          "output_type": "stream",
          "name": "stdout",
          "text": [
            "[Epoch:  0], [Train Acc: 96.3800], [Val Acc: 99.2900]\n"
          ]
        },
        {
          "output_type": "stream",
          "name": "stderr",
          "text": [
            "100%|██████████| 15000/15000 [04:42<00:00, 53.16it/s]\n"
          ]
        },
        {
          "output_type": "stream",
          "name": "stdout",
          "text": [
            "[Epoch:  1], [Train Acc: 98.5767], [Val Acc: 99.0600]\n"
          ]
        }
      ]
    }
  ]
}